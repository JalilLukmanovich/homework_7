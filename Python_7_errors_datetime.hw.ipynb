{
 "cells": [
  {
   "cell_type": "markdown",
   "metadata": {},
   "source": [
    "Задание 1\n",
    "Напишите функцию date_range, которая возвращает список дней между датами start_date и end_date. Даты должны вводиться в формате YYYY-MM-DD.\n",
    "\n",
    "Задание 2\n",
    "Дополните функцию из первого задания проверкой на корректность дат. В случае неверного формата или если start_date > end_date должен возвращаться пустой список."
   ]
  },
  {
   "cell_type": "code",
   "execution_count": 4,
   "metadata": {},
   "outputs": [],
   "source": [
    "from datetime import datetime\n",
    "from datetime import timedelta"
   ]
  },
  {
   "cell_type": "code",
   "execution_count": 69,
   "metadata": {},
   "outputs": [],
   "source": [
    "start_date = '09.11.2016 09:00:00'\n",
    "end_date = '30.12.2016 12:00:00'\n",
    "#start_date = '30.12.2016 12:00:00'\n",
    "#end_date = '09.11.2016 09:00:00'"
   ]
  },
  {
   "cell_type": "code",
   "execution_count": 70,
   "metadata": {},
   "outputs": [
    {
     "name": "stdout",
     "output_type": "stream",
     "text": [
      "['10', '11', '12', '13', '14', '15', '16', '17', '18', '19', '20', '21', '22', '23', '24', '25', '26', '27', '28', '29']\n"
     ]
    }
   ],
   "source": [
    "def count_day(start_date, end_date):\n",
    "    start_date_st = datetime.strptime(start_date, '%d.%m.%Y %H:%M:%f')\n",
    "    end_date_en = datetime.strptime(end_date, '%d.%m.%Y %H:%M:%f')\n",
    "    list_count_days = []\n",
    "    current_dt = start_date_st\n",
    "    count = end_date_en.day - start_date_st.day - 1\n",
    "    if count < 0:\n",
    "        return list_count_days\n",
    "    for n in range(count):\n",
    "        current_dt += timedelta(days=1)\n",
    "        list_count_days.append(current_dt.strftime('%d'))\n",
    "    return list_count_days\n",
    "print(count_day(start_date, end_date), sep='')"
   ]
  },
  {
   "cell_type": "markdown",
   "metadata": {},
   "source": [
    "Задание 3\n",
    "Дан поток дат в формате YYYY-MM-DD, в которых встречаются некорректные значения:\n",
    "stream = [‘2018-04-02’, ‘2018-02-29’, ‘2018-19-02’]\n",
    "\n",
    "Напишите функцию, которая проверяет эти даты на корректность. Т. е. для каждой даты возвращает True (дата корректна) или False (некорректная дата)."
   ]
  },
  {
   "cell_type": "code",
   "execution_count": 5,
   "metadata": {},
   "outputs": [],
   "source": [
    "stream = ['2018-04-02', '2018-02-29', '2018-19-02']\n",
    "#stream = ['2018-04-02', '2018-01-02']"
   ]
  },
  {
   "cell_type": "code",
   "execution_count": 16,
   "metadata": {},
   "outputs": [
    {
     "name": "stdout",
     "output_type": "stream",
     "text": [
      "count_day('2018-02-29', '2018-19-02')\n"
     ]
    }
   ],
   "source": [
    "count_day = []\n",
    "def foo(stream):\n",
    "    for valid_date in stream: \n",
    "        try:\n",
    "            fff = datetime.strptime(valid_date, '%Y-%m-%d')\n",
    "        except:\n",
    "            count_day.append(valid_date)\n",
    "    print(f\"count_day{tuple(count_day[:])}\")            \n",
    "foo(stream)"
   ]
  },
  {
   "cell_type": "markdown",
   "metadata": {},
   "source": [
    "Задание 4\n",
    "Ваш коллега прислал код функции:\n",
    "\n",
    "DEFAULT_USER_COUNT = 3\n",
    "\n",
    "def delete_and_return_last_user(region, default_list=[‘A100’, ‘A101’, ‘A102’]):\n",
    "\"\"“\n",
    "Удаляет из списка default_list последнего пользователя\n",
    "и возвращает ID нового последнего пользователя.\n",
    "”\"\"\n",
    "element_to_delete = default_list[-1]\n",
    "default_list.remove(element_to_delete)\n",
    "\n",
    "return default_list[DEFAULT_USER_COUNT-2]\n",
    "При однократном вызове этой функции все работает корректно:\n",
    "delete_and_return_last_user(1)\n",
    "‘A101’\n",
    "\n",
    "Однако, при повторном вызове получается ошибка IndexError: list index out of range.\n",
    "\n",
    "Задание:\n",
    "\n",
    "Что значит ошибка list index out of range?\n",
    "Почему при первом запуске функция работает корректно, а при втором - нет?"
   ]
  },
  {
   "cell_type": "code",
   "execution_count": 7,
   "metadata": {},
   "outputs": [
    {
     "data": {
      "text/plain": [
       "'A101'"
      ]
     },
     "execution_count": 7,
     "metadata": {},
     "output_type": "execute_result"
    }
   ],
   "source": [
    "def delete_and_return_last_user(default_list=['A100', 'A101', 'A102']):\n",
    "    DEFAULT_USER_COUNT = 3\n",
    "    element_to_delete = default_list[-1]\n",
    "    default_list.remove(element_to_delete)\n",
    "    return default_list[DEFAULT_USER_COUNT-2]\n",
    "\n",
    "delete_and_return_last_user()"
   ]
  },
  {
   "cell_type": "code",
   "execution_count": null,
   "metadata": {},
   "outputs": [],
   "source": [
    "При первом вызове функции из списка удаляется последний элемент - 'A102', из константы DEFAULT_USER_COUNT вычитается \n",
    "значение 2 и возвращается значение индекса списка под номером [1] - 'A101'.\n",
    "При втором вызове функции из списка удаляется последний элемент - 'A101', из константы DEFAULT_USER_COUNT вычитается \n",
    "значение 2 и возвращается значение индекса списка под номером [1], но т. к. в списке остался только один элемент с индесом [0]\n",
    "программа выводит ошибку, указывая на то, что элемента с данным индексом в списке не существует."
   ]
  },
  {
   "cell_type": "code",
   "execution_count": null,
   "metadata": {},
   "outputs": [],
   "source": []
  }
 ],
 "metadata": {
  "kernelspec": {
   "display_name": "Python 3",
   "language": "python",
   "name": "python3"
  },
  "language_info": {
   "codemirror_mode": {
    "name": "ipython",
    "version": 3
   },
   "file_extension": ".py",
   "mimetype": "text/x-python",
   "name": "python",
   "nbconvert_exporter": "python",
   "pygments_lexer": "ipython3",
   "version": "3.7.4"
  }
 },
 "nbformat": 4,
 "nbformat_minor": 2
}
